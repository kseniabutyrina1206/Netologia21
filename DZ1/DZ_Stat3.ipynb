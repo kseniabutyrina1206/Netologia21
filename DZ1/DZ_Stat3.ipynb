{
 "cells": [
  {
   "cell_type": "markdown",
   "metadata": {},
   "source": [
    "# Задание\n",
    "Смоделировать игру против лотерейного автомата типа “777”. Игрок платит 1 руб., после чего выпадает случайное целое число, равномерно распределенное от 0 до 999. При некоторых значениях числа игрок получает выигрыш (см. справа)\n",
    "\n",
    "Выгодна ли игра игроку?\n",
    "\n",
    "Сколько в среднем приобретает\n",
    "или теряет игрок за одну игру?\n",
    "\n",
    "777: 200 руб.\n",
    "999: 100 руб.\n",
    "555: 50 руб.\n",
    "333: 15 руб.\n",
    "111: 10 руб.\n",
    "*77: 5 руб.\n",
    "**7: 3 руб.\n",
    "*00: 2 руб.\n",
    "**0: 1 руб.\n",
    "\n",
    "– любая цифра\n",
    "Дополнительное задание повышенной сложности. Теоретически рассчитать средний выигрыш (проигрыш) и сравнить с результатами моделирования"
   ]
  },
  {
   "cell_type": "code",
   "execution_count": 1,
   "metadata": {},
   "outputs": [],
   "source": [
    "import numpy as np"
   ]
  },
  {
   "cell_type": "code",
   "execution_count": 2,
   "metadata": {},
   "outputs": [
    {
     "name": "stdout",
     "output_type": "stream",
     "text": [
      "вероятность выиграша: 0.2034 средний выигрыш: -0.0852\n"
     ]
    }
   ],
   "source": [
    "trials = 10000     # Кол-во попыток\n",
    "successes = 0    # Кол-во успешных\n",
    "jackpot = 0  # сумма выигрышей\n",
    "for i in range(trials):\n",
    "    random_score = np.random.randint(0, 1000)    # Случайное кол-во 0 до 999\n",
    "    if random_score == 777:\n",
    "        successes += 1\n",
    "        jackpot += 200 \n",
    "    elif random_score == 999:\n",
    "        successes += 1\n",
    "        jackpot += 100\n",
    "    elif random_score == 555:\n",
    "        successes += 1\n",
    "        jackpot += 50\n",
    "    elif random_score == 333:\n",
    "        successes += 1\n",
    "        jackpot += 15\n",
    "    elif random_score == 111:    \n",
    "        successes += 1\n",
    "        jackpot += 10\n",
    "    elif (random_score - 77)% 100 == 0:\n",
    "        successes += 1\n",
    "        jackpot += 5\n",
    "    elif (random_score - 7) % 10 == 0:\n",
    "        successes += 1\n",
    "        jackpot += 3\n",
    "    elif random_score % 100 == 0:\n",
    "        successes += 1\n",
    "        jackpot += 2\n",
    "    elif random_score % 10 == 0:\n",
    "        successes += 1\n",
    "        jackpot += 1\n",
    "jackpot_p = successes / trials    # Вероятность выиграть\n",
    "jackpot_mean = (jackpot - trials)/trials #средний выигрыш                         \n",
    "\n",
    "print('вероятность выиграша:', jackpot_p, 'средний выигрыш:', jackpot_mean)"
   ]
  },
  {
   "cell_type": "code",
   "execution_count": null,
   "metadata": {},
   "outputs": [],
   "source": [
    "вероятность выграть составляет 20%, выигрыш будет -0,8 руб - такая игра не выгодня, т.к. деньги игрок проиграет"
   ]
  }
 ],
 "metadata": {
  "kernelspec": {
   "display_name": "Python 3",
   "language": "python",
   "name": "python3"
  },
  "language_info": {
   "codemirror_mode": {
    "name": "ipython",
    "version": 3
   },
   "file_extension": ".py",
   "mimetype": "text/x-python",
   "name": "python",
   "nbconvert_exporter": "python",
   "pygments_lexer": "ipython3",
   "version": "3.8.5"
  }
 },
 "nbformat": 4,
 "nbformat_minor": 4
}
