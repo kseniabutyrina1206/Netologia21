{
 "cells": [
  {
   "cell_type": "code",
   "execution_count": 17,
   "metadata": {},
   "outputs": [],
   "source": [
    "import json"
   ]
  },
  {
   "cell_type": "code",
   "execution_count": 27,
   "metadata": {},
   "outputs": [
    {
     "name": "stdout",
     "output_type": "stream",
     "text": [
      "{'1840e0b9d4': 'Продукты', '4e4f90fcfb': 'Электроника', 'afea8d72fc': 'Электроника', '373a6055fe': 'Бытовая техника', '9b2ab046f3': 'Электроника', '9f39d307c3': 'Электроника', '44edeffc91': 'Продукты', '704474fa2d': 'Продукты', '1de31be403': 'Бытовая техника', 'b71f36a5e4': 'Продукты', '79843a685a': 'Продукты', 'ff68cee0d6': 'Бытовая техника'}\n"
     ]
    }
   ],
   "source": [
    "# 1 задание: Переведите содержимое файла purchase_log.txt в словарь purchases\n",
    "\n",
    "purchases = {}\n",
    "i = 0\n",
    "with open ('purchase_log.txt', encoding = 'utf-8') as f:\n",
    "    spisok = f.readlines()[1:]\n",
    "    for line in spisok:\n",
    "        line = line.strip()\n",
    "        dictionar = json.loads(line)\n",
    "        purchases.setdefault(dictionar['user_id'], dictionar['category'])     \n",
    "        if i > 10:\n",
    "            break\n",
    "        i+=1\n",
    "print (purchases)"
   ]
  },
  {
   "cell_type": "code",
   "execution_count": 30,
   "metadata": {},
   "outputs": [
    {
     "name": "stdout",
     "output_type": "stream",
     "text": [
      "['1840e0b9d4', 'other', 'Продукты']\n",
      "['4e4f90fcfb', 'context', 'Электроника']\n",
      "['afea8d72fc', 'other', 'Электроника']\n",
      "['373a6055fe', 'other', 'Бытовая техника']\n",
      "['9b2ab046f3', 'other', 'Электроника']\n",
      "['9f39d307c3', 'context', 'Электроника']\n",
      "['44edeffc91', 'context', 'Продукты']\n",
      "['704474fa2d', 'other', 'Продукты']\n",
      "['1de31be403', 'other', 'Бытовая техника']\n",
      "['b71f36a5e4', 'other', 'Продукты']\n",
      "['79843a685a', 'context', 'Продукты']\n",
      "['ff68cee0d6', 'context', 'Бытовая техника']\n"
     ]
    }
   ],
   "source": [
    "# 2 задание:Для каждого user_id в файле visit_log.csv определите третий столбец с категорией покупки (если покупка была, сам файл visit_log.csv изменять не надо). Запишите в файл funnel.csv визиты из файла visit_log.csv, в которых были покупки с указанием категории.\n",
    "\n",
    "\n",
    "with open ('visit_log.csv', 'r', encoding = 'utf-8') as read:\n",
    "    with open ('funnel.csv', 'w', encoding = 'utf-8') as write:\n",
    "        for number in read:\n",
    "            number = number.strip().split(',')\n",
    "            if number[0] in purchases.keys():\n",
    "                doc = number\n",
    "                doc.append(purchases.get(number[0]))\n",
    "                print(doc)\n",
    "                write.write(str(doc))"
   ]
  },
  {
   "cell_type": "code",
   "execution_count": null,
   "metadata": {},
   "outputs": [],
   "source": []
  }
 ],
 "metadata": {
  "kernelspec": {
   "display_name": "Python 3",
   "language": "python",
   "name": "python3"
  },
  "language_info": {
   "codemirror_mode": {
    "name": "ipython",
    "version": 3
   },
   "file_extension": ".py",
   "mimetype": "text/x-python",
   "name": "python",
   "nbconvert_exporter": "python",
   "pygments_lexer": "ipython3",
   "version": "3.8.5"
  }
 },
 "nbformat": 4,
 "nbformat_minor": 4
}
