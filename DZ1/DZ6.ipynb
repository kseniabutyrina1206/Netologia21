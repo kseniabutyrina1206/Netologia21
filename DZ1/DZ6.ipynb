{
 "cells": [
  {
   "cell_type": "code",
   "execution_count": null,
   "metadata": {},
   "outputs": [],
   "source": [
    "# Задание 1"
   ]
  },
  {
   "cell_type": "code",
   "execution_count": 1,
   "metadata": {},
   "outputs": [],
   "source": [
    "from datetime import datetime"
   ]
  },
  {
   "cell_type": "code",
   "execution_count": 3,
   "metadata": {},
   "outputs": [],
   "source": [
    "The_Moscow_Times = 'Wednesday, October 2, 2002'\n",
    "The_Guardian = 'Friday, 11.10.13'\n",
    "Daily_News = 'Thursday, 18 August 1977'"
   ]
  },
  {
   "cell_type": "code",
   "execution_count": 6,
   "metadata": {},
   "outputs": [
    {
     "name": "stdout",
     "output_type": "stream",
     "text": [
      "2002-10-01 00:00:00\n",
      "2013-10-11 00:00:00\n",
      "1977-08-18 00:00:00\n"
     ]
    }
   ],
   "source": [
    "Moscow = datetime.strptime('Wednesday, October 2, 2002', '%A, %B %w, %Y')\n",
    "Guardian = datetime.strptime('Friday, 11.10.13', '%A, %d.%m.%y')\n",
    "Dayly = datetime.strptime('Thursday, 18 August 1977', '%A, %d %B %Y')\n",
    "\n",
    "print(Moscow)\n",
    "print(Guardian)\n",
    "print(Dayly)"
   ]
  },
  {
   "cell_type": "code",
   "execution_count": null,
   "metadata": {},
   "outputs": [],
   "source": [
    "# Задание 2"
   ]
  },
  {
   "cell_type": "code",
   "execution_count": 23,
   "metadata": {},
   "outputs": [
    {
     "name": "stdout",
     "output_type": "stream",
     "text": [
      "2018-04-02 True Даты корректны\n",
      "2018-02-29 False Некорректна дата\n",
      "2018-19-02 False Некорректна дата\n"
     ]
    }
   ],
   "source": [
    "stream = ['2018-04-02', '2018-02-29', '2018-19-02']\n",
    "\n",
    "def true_date(stream):\n",
    "        for date in stream:\n",
    "            try:\n",
    "                if datetime.strptime(date, '%Y-%m-%d'):\n",
    "                    print(date,True, 'Даты корректны')\n",
    "            except:\n",
    "                    print(date,False, 'Некорректна дата')\n",
    "            \n",
    "true_date(stream)"
   ]
  },
  {
   "cell_type": "code",
   "execution_count": null,
   "metadata": {},
   "outputs": [],
   "source": [
    "#Задание 3"
   ]
  },
  {
   "cell_type": "code",
   "execution_count": 20,
   "metadata": {},
   "outputs": [],
   "source": [
    "from datetime import datetime\n",
    "from datetime import timedelta"
   ]
  },
  {
   "cell_type": "code",
   "execution_count": 29,
   "metadata": {},
   "outputs": [
    {
     "name": "stdout",
     "output_type": "stream",
     "text": [
      "Введите начальную дату в формате YYYY-MM-DD: 2020-11-20\n",
      "Введите конечную дату в формате YYYY-MM-DD: 2020-11-25\n",
      "2020-11-20\n",
      "2020-11-21\n",
      "2020-11-22\n",
      "2020-11-23\n",
      "2020-11-24\n",
      "2020-11-25\n"
     ]
    }
   ],
   "source": [
    "def date_range(start_date,end_date):\n",
    "    try:\n",
    "        if datetime.strptime(start_date,'%Y-%m-%d'):\n",
    "            if datetime.strptime(end_date,'%Y-%m-%d'):\n",
    "                if datetime.strptime(start_date,'%Y-%m-%d') < datetime.strptime(end_date,'%Y-%m-%d'):\n",
    "                    start_dt = datetime.strptime(start_date, '%Y-%m-%d')\n",
    "                    end_date_f = datetime.strptime(end_date, '%Y-%m-%d')\n",
    "                    while start_dt <= end_date_f:\n",
    "                        print(start_dt.strftime('%Y-%m-%d'))\n",
    "                        start_dt += timedelta(days=1)\n",
    "                else:\n",
    "                    print(\"Начальная дата больше конечной\")\n",
    "                    return None\n",
    "        return None\n",
    "    except:\n",
    "        return None\n",
    "\n",
    "start_date = input('Введите начальную дату в формате YYYY-MM-DD: ')\n",
    "end_date = input('Введите конечную дату в формате YYYY-MM-DD: ')\n",
    "date_range(start_date, end_date)"
   ]
  },
  {
   "cell_type": "code",
   "execution_count": null,
   "metadata": {},
   "outputs": [],
   "source": []
  }
 ],
 "metadata": {
  "kernelspec": {
   "display_name": "Python 3",
   "language": "python",
   "name": "python3"
  },
  "language_info": {
   "codemirror_mode": {
    "name": "ipython",
    "version": 3
   },
   "file_extension": ".py",
   "mimetype": "text/x-python",
   "name": "python",
   "nbconvert_exporter": "python",
   "pygments_lexer": "ipython3",
   "version": "3.8.5"
  }
 },
 "nbformat": 4,
 "nbformat_minor": 4
}
