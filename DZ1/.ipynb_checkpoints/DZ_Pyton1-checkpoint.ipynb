{
 "cells": [
  {
   "cell_type": "code",
   "execution_count": null,
   "metadata": {},
   "outputs": [],
   "source": [
    "### Задание 1"
   ]
  },
  {
   "cell_type": "code",
   "execution_count": 2,
   "metadata": {},
   "outputs": [
    {
     "name": "stdout",
     "output_type": "stream",
     "text": [
      "Фраза 1 длиннее фразы 2\n"
     ]
    }
   ],
   "source": [
    "phrase_1 = 'Насколько проще было бы писать программы, если бы не заказчики'\n",
    "phrase_2 = '640Кб должно хватить для любых задач. Билл Гейтс (по легенде)'\n",
    "\n",
    "if len(phrase_1) > len(phrase_2):\n",
    "    print('Фраза 1 длиннее фразы 2')\n",
    "elif len(phrase_1) < len(phrase_2):\n",
    "    print('Фраза 2 длиннее фразы 1')\n",
    "else:\n",
    "    print('Фразы равной длины')"
   ]
  },
  {
   "cell_type": "code",
   "execution_count": null,
   "metadata": {},
   "outputs": [],
   "source": [
    "### Задание 2 "
   ]
  },
  {
   "cell_type": "code",
   "execution_count": 20,
   "metadata": {},
   "outputs": [
    {
     "name": "stdout",
     "output_type": "stream",
     "text": [
      "year=2020\n",
      "Високосный год\n"
     ]
    }
   ],
   "source": [
    "year = int(input('year='))\n",
    "if (year % 4 == 0) and (year % 100 != 0) or (year % 400 == 0):\n",
    "    print('Високосный год')\n",
    "else:\n",
    "    print('Обычный год')"
   ]
  },
  {
   "cell_type": "code",
   "execution_count": null,
   "metadata": {},
   "outputs": [],
   "source": [
    "### Задание 3"
   ]
  },
  {
   "cell_type": "code",
   "execution_count": 22,
   "metadata": {},
   "outputs": [
    {
     "name": "stdout",
     "output_type": "stream",
     "text": [
      "введите месяциюнь\n",
      "введите день12\n",
      "Близнецы\n"
     ]
    }
   ],
   "source": [
    "month = str(input('введите месяц'))\n",
    "day = int(input('введите день'))\n",
    "if(month=='апрель' and 1<day<21) or (month=='март' and 22<day<31):\n",
    "    print('Овен')\n",
    "elif(month=='май' and 1<day<21) or (month=='апрель' and 22<day<30):\n",
    "    print('Телец')\n",
    "elif(month=='июнь' and 1<day<21) or (month=='май' and 22<day<31):\n",
    "    print('Близнецы') \n",
    "elif(month=='июль' and 1<day<21) or (month=='июнь' and 22<day<30):\n",
    "    print('Рак') \n",
    "elif(month=='август' and 1<day<21) or (month=='июль' and 22<day<31):\n",
    "    print('Лев')\n",
    "elif(month=='сентябрь' and 1<day<21) or (month=='август' and 22<day<31):\n",
    "    print('Дева')\n",
    "elif(month=='октябрь' and 1<day<21) or (month=='сентябрь' and 22<day<30):\n",
    "    print('Весы')\n",
    "elif(month=='ноябрь' and 1<day<21) or (month=='октябрь' and 22<day<31):\n",
    "    print('Скорпион')\n",
    "elif(month=='декабрь' and 1<day<21) or (month=='ноябрь' and 22<day<30):\n",
    "    print('Стрелец')\n",
    "elif(month=='январь' and 1<day<21) or (month=='декабрь' and 22<day<31):\n",
    "    print('Козерог')\n",
    "elif(month=='февраль' and 1<day<21) or (month=='январь' and 22<day<31):\n",
    "    print('Водолей')\n",
    "elif(month=='март' and 1<day<21) or (month=='февраль' and 22<day<29):\n",
    "    print('Рыбы')\n",
    "else:\n",
    "    print('пусто')"
   ]
  },
  {
   "cell_type": "code",
   "execution_count": null,
   "metadata": {},
   "outputs": [],
   "source": [
    "### Задание 4 "
   ]
  },
  {
   "cell_type": "code",
   "execution_count": 18,
   "metadata": {},
   "outputs": [
    {
     "name": "stdout",
     "output_type": "stream",
     "text": [
      "Упаковка для лыж\n"
     ]
    }
   ],
   "source": [
    "width = 10\n",
    "length = 205\n",
    "height = 5\n",
    "if length > 200:\n",
    "    print('Упаковка для лыж')\n",
    "elif width < 15 and length < 15 and height < 15:\n",
    "    print('Коробка №1')\n",
    "elif 15 < width < 50 or 15 < length < 50 or 15 < height < 50:\n",
    "    print('Коробка №2')\n",
    "else:\n",
    "    print('Стандартная коробка №3')"
   ]
  }
 ],
 "metadata": {
  "kernelspec": {
   "display_name": "Python 3",
   "language": "python",
   "name": "python3"
  },
  "language_info": {
   "codemirror_mode": {
    "name": "ipython",
    "version": 3
   },
   "file_extension": ".py",
   "mimetype": "text/x-python",
   "name": "python",
   "nbconvert_exporter": "python",
   "pygments_lexer": "ipython3",
   "version": "3.8.5"
  }
 },
 "nbformat": 4,
 "nbformat_minor": 4
}
